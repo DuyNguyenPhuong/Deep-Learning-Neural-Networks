{
  "cells": [
    {
      "cell_type": "markdown",
      "metadata": {
        "id": "czlRlxtnYws9"
      },
      "source": [
        "## Packages\n",
        "**Tensorflow and Keras**  \n",
        "Tensorflow is a machine learning package developed by Google. In 2019, Google integrated Keras into Tensorflow and released Tensorflow 2.0. Keras is a framework developed independently by François Chollet that creates a simple, layer-centric interface to Tensorflow. This course will be using the Keras interface. "
      ]
    },
    {
      "cell_type": "code",
      "execution_count": 1,
      "metadata": {
        "colab": {
          "base_uri": "https://localhost:8080/",
          "height": 383
        },
        "id": "PxCV_471Yws9",
        "outputId": "7c77700f-6007-4c09-d86e-57e8636a7c3a"
      },
      "outputs": [
        {
          "output_type": "error",
          "ename": "ModuleNotFoundError",
          "evalue": "ignored",
          "traceback": [
            "\u001b[0;31m---------------------------------------------------------------------------\u001b[0m",
            "\u001b[0;31mModuleNotFoundError\u001b[0m                       Traceback (most recent call last)",
            "\u001b[0;32m<ipython-input-1-8842dc93eb5a>\u001b[0m in \u001b[0;36m<module>\u001b[0;34m\u001b[0m\n\u001b[1;32m      6\u001b[0m \u001b[0;32mfrom\u001b[0m \u001b[0mtensorflow\u001b[0m\u001b[0;34m.\u001b[0m\u001b[0mkeras\u001b[0m\u001b[0;34m.\u001b[0m\u001b[0mlosses\u001b[0m \u001b[0;32mimport\u001b[0m \u001b[0mMeanSquaredError\u001b[0m\u001b[0;34m,\u001b[0m \u001b[0mBinaryCrossentropy\u001b[0m\u001b[0;34m\u001b[0m\u001b[0;34m\u001b[0m\u001b[0m\n\u001b[1;32m      7\u001b[0m \u001b[0;32mfrom\u001b[0m \u001b[0mtensorflow\u001b[0m\u001b[0;34m.\u001b[0m\u001b[0mkeras\u001b[0m\u001b[0;34m.\u001b[0m\u001b[0mactivations\u001b[0m \u001b[0;32mimport\u001b[0m \u001b[0msigmoid\u001b[0m\u001b[0;34m\u001b[0m\u001b[0;34m\u001b[0m\u001b[0m\n\u001b[0;32m----> 8\u001b[0;31m \u001b[0;32mfrom\u001b[0m \u001b[0mlab_utils_common\u001b[0m \u001b[0;32mimport\u001b[0m \u001b[0mdlc\u001b[0m\u001b[0;34m\u001b[0m\u001b[0;34m\u001b[0m\u001b[0m\n\u001b[0m\u001b[1;32m      9\u001b[0m \u001b[0;32mfrom\u001b[0m \u001b[0mlab_neurons_utils\u001b[0m \u001b[0;32mimport\u001b[0m \u001b[0mplt_prob_1d\u001b[0m\u001b[0;34m,\u001b[0m \u001b[0msigmoidnp\u001b[0m\u001b[0;34m,\u001b[0m \u001b[0mplt_linear\u001b[0m\u001b[0;34m,\u001b[0m \u001b[0mplt_logistic\u001b[0m\u001b[0;34m\u001b[0m\u001b[0;34m\u001b[0m\u001b[0m\n\u001b[1;32m     10\u001b[0m \u001b[0mplt\u001b[0m\u001b[0;34m.\u001b[0m\u001b[0mstyle\u001b[0m\u001b[0;34m.\u001b[0m\u001b[0muse\u001b[0m\u001b[0;34m(\u001b[0m\u001b[0;34m'./deeplearning.mplstyle'\u001b[0m\u001b[0;34m)\u001b[0m\u001b[0;34m\u001b[0m\u001b[0;34m\u001b[0m\u001b[0m\n",
            "\u001b[0;31mModuleNotFoundError\u001b[0m: No module named 'lab_utils_common'",
            "",
            "\u001b[0;31m---------------------------------------------------------------------------\u001b[0;32m\nNOTE: If your import is failing due to a missing package, you can\nmanually install dependencies using either !pip or !apt.\n\nTo view examples of installing some common dependencies, click the\n\"Open Examples\" button below.\n\u001b[0;31m---------------------------------------------------------------------------\u001b[0m\n"
          ],
          "errorDetails": {
            "actions": [
              {
                "action": "open_url",
                "actionText": "Open Examples",
                "url": "/notebooks/snippets/importing_libraries.ipynb"
              }
            ]
          }
        }
      ],
      "source": [
        "import numpy as np\n",
        "import matplotlib.pyplot as plt\n",
        "import tensorflow as tf\n",
        "from tensorflow.keras.layers import Dense, Input\n",
        "from tensorflow.keras import Sequential\n",
        "from tensorflow.keras.losses import MeanSquaredError, BinaryCrossentropy\n",
        "from tensorflow.keras.activations import sigmoid\n",
        "from lab_utils_common import dlc\n",
        "from lab_neurons_utils import plt_prob_1d, sigmoidnp, plt_linear, plt_logistic\n",
        "plt.style.use('./deeplearning.mplstyle')\n",
        "import logging\n",
        "logging.getLogger(\"tensorflow\").setLevel(logging.ERROR)\n",
        "tf.autograph.set_verbosity(0)"
      ]
    },
    {
      "cell_type": "markdown",
      "metadata": {
        "id": "gD0ss-pQYws_"
      },
      "source": [
        "## Neuron without activation - Regression/Linear Model"
      ]
    },
    {
      "cell_type": "markdown",
      "metadata": {
        "tags": [],
        "id": "o4PZoBMZYws_"
      },
      "source": [
        "### DataSet\n",
        "We'll use an example from Course 1, linear regression on house prices."
      ]
    },
    {
      "cell_type": "code",
      "execution_count": 2,
      "metadata": {
        "tags": [],
        "colab": {
          "base_uri": "https://localhost:8080/",
          "height": 289
        },
        "id": "JRIUilUDYws_",
        "outputId": "0b133382-41c9-40d8-d24c-340ae8654c0b"
      },
      "outputs": [
        {
          "output_type": "display_data",
          "data": {
            "text/plain": [
              "<Figure size 432x288 with 1 Axes>"
            ],
            "image/png": "[encoded data removed]"
          },
          "metadata": {
            "needs_background": "light"
          }
        }
      ],
      "source": [
        "X_train = np.array([[1.0], [2.0]], dtype=np.float32)           #(size in 1000 square feet)\n",
        "Y_train = np.array([[300.0], [500.0]], dtype=np.float32)       #(price in 1000s of dollars)\n",
        "\n",
        "fig, ax = plt.subplots(1,1)\n",
        "ax.scatter(X_train, Y_train, marker='x', c='r', label=\"Data Points\")\n",
        "ax.legend( fontsize='xx-large')\n",
        "ax.set_ylabel('Price (in 1000s of dollars)', fontsize='xx-large')\n",
        "ax.set_xlabel('Size (1000 sqft)', fontsize='xx-large')\n",
        "plt.show()"
      ]
    },
    {
      "cell_type": "markdown",
      "metadata": {
        "id": "H71EQ5O0YwtA"
      },
      "source": [
        "### Regression/Linear Model \n",
        "The function implemented by a neuron with no activation is the same as in Course 1, linear regression:\n",
        "$$ f_{\\mathbf{w},b}(x^{(i)}) = \\mathbf{w}\\cdot x^{(i)} + b \\tag{1}$$\n",
        "\n"
      ]
    },
    {
      "cell_type": "markdown",
      "metadata": {
        "id": "HKo_QwPiYwtB"
      },
      "source": [
        "We can define a layer with one neuron or unit and compare it to the familiar linear regression function."
      ]
    },
    {
      "cell_type": "code",
      "execution_count": 3,
      "metadata": {
        "id": "_hVw_aizYwtB"
      },
      "outputs": [],
      "source": [
        "linear_layer = tf.keras.layers.Dense(units=1, activation = 'linear', )"
      ]
    },
    {
      "cell_type": "markdown",
      "metadata": {
        "id": "XPa4Pmh3YwtC"
      },
      "source": [
        "Let's examine the weights."
      ]
    },
    {
      "cell_type": "code",
      "execution_count": 4,
      "metadata": {
        "colab": {
          "base_uri": "https://localhost:8080/"
        },
        "id": "iPuSnk7yYwtC",
        "outputId": "d912e80e-f00d-4eda-f639-9787cbf032ff"
      },
      "outputs": [
        {
          "output_type": "execute_result",
          "data": {
            "text/plain": [
              "[]"
            ]
          },
          "metadata": {},
          "execution_count": 4
        }
      ],
      "source": [
        "linear_layer.get_weights()"
      ]
    },
    {
      "cell_type": "markdown",
      "metadata": {
        "id": "xd1Ntr-ZYwtD"
      },
      "source": [
        "There are no weights as the weights are not yet instantiated. Let's try the model on one example in `X_train`. This will trigger the instantiation of the weights. Note, the input to the layer must be 2-D, so we'll reshape it."
      ]
    },
    {
      "cell_type": "code",
      "execution_count": 5,
      "metadata": {
        "colab": {
          "base_uri": "https://localhost:8080/"
        },
        "id": "eA1uXWIBYwtD",
        "outputId": "7016ded8-9c7a-496a-94c4-12eaa8dada40"
      },
      "outputs": [
        {
          "output_type": "stream",
          "name": "stdout",
          "text": [
            "tf.Tensor([[0.9632915]], shape=(1, 1), dtype=float32)\n"
          ]
        }
      ],
      "source": [
        "a1 = linear_layer(X_train[0].reshape(1,1))\n",
        "print(a1)"
      ]
    },
    {
      "cell_type": "markdown",
      "metadata": {
        "id": "iS5JKWYqYwtD"
      },
      "source": [
        "The result is a tensor (another name for an array) with a shape of (1,1) or one entry.   \n",
        "Now let's look at the weights and bias. These weights are randomly initialized to small numbers and the bias defaults to being initialized to zero."
      ]
    },
    {
      "cell_type": "code",
      "execution_count": 6,
      "metadata": {
        "colab": {
          "base_uri": "https://localhost:8080/"
        },
        "id": "jQkRiqYeYwtE",
        "outputId": "d429128f-2b83-40de-a580-3f69bf7203d8"
      },
      "outputs": [
        {
          "output_type": "stream",
          "name": "stdout",
          "text": [
            "w = [[0.9632915]], b=[0.]\n"
          ]
        }
      ],
      "source": [
        "w, b= linear_layer.get_weights()\n",
        "print(f\"w = {w}, b={b}\")"
      ]
    },
    {
      "cell_type": "markdown",
      "metadata": {
        "id": "KV3_zIGkYwtE"
      },
      "source": [
        "A linear regression model (1) with a single input feature will have a single weight and bias. This matches the dimensions of our `linear_layer` above.   \n",
        "\n",
        "The weights are initialized to random values so let's set them to some known values."
      ]
    },
    {
      "cell_type": "code",
      "execution_count": 7,
      "metadata": {
        "colab": {
          "base_uri": "https://localhost:8080/"
        },
        "id": "d_NoaPdsYwtE",
        "outputId": "4fd62c8f-f9d0-47d8-c610-fa576ab9425b"
      },
      "outputs": [
        {
          "output_type": "stream",
          "name": "stdout",
          "text": [
            "[array([[200.]], dtype=float32), array([100.], dtype=float32)]\n"
          ]
        }
      ],
      "source": [
        "set_w = np.array([[200]])\n",
        "set_b = np.array([100])\n",
        "\n",
        "# set_weights takes a list of numpy arrays\n",
        "linear_layer.set_weights([set_w, set_b])\n",
        "print(linear_layer.get_weights())"
      ]
    },
    {
      "cell_type": "markdown",
      "metadata": {
        "id": "IJv6gTkUYwtE"
      },
      "source": [
        "Let's compare equation (1) to the layer output."
      ]
    },
    {
      "cell_type": "code",
      "execution_count": 8,
      "metadata": {
        "colab": {
          "base_uri": "https://localhost:8080/"
        },
        "id": "EyAEZbSdYwtF",
        "outputId": "d3397552-aa08-4343-e642-786ffb25dec9"
      },
      "outputs": [
        {
          "output_type": "stream",
          "name": "stdout",
          "text": [
            "tf.Tensor([[300.]], shape=(1, 1), dtype=float32)\n",
            "[[300.]]\n"
          ]
        }
      ],
      "source": [
        "a1 = linear_layer(X_train[0].reshape(1,1))\n",
        "print(a1)\n",
        "alin = np.dot(set_w,X_train[0].reshape(1,1)) + set_b\n",
        "print(alin)"
      ]
    },
    {
      "cell_type": "markdown",
      "metadata": {
        "id": "2Rq5z6xtYwtF"
      },
      "source": [
        "They produce the same values!\n",
        "Now, we can use our linear layer to make predictions on our training data."
      ]
    },
    {
      "cell_type": "code",
      "execution_count": 9,
      "metadata": {
        "id": "igfkeLOgYwtF"
      },
      "outputs": [],
      "source": [
        "prediction_tf = linear_layer(X_train)\n",
        "prediction_np = np.dot( X_train, set_w) + set_b"
      ]
    },
    {
      "cell_type": "code",
      "execution_count": 11,
      "metadata": {
        "colab": {
          "base_uri": "https://localhost:8080/",
          "height": 169
        },
        "id": "X4_I1pqzYwtF",
        "outputId": "f5641f70-5114-4336-93de-585334337530"
      },
      "outputs": [
        {
          "output_type": "error",
          "ename": "NameError",
          "evalue": "ignored",
          "traceback": [
            "\u001b[0;31m---------------------------------------------------------------------------\u001b[0m",
            "\u001b[0;31mNameError\u001b[0m                                 Traceback (most recent call last)",
            "\u001b[0;32m<ipython-input-11-ee6704562aa7>\u001b[0m in \u001b[0;36m<module>\u001b[0;34m\u001b[0m\n\u001b[0;32m----> 1\u001b[0;31m \u001b[0mplt_linear\u001b[0m\u001b[0;34m(\u001b[0m\u001b[0mX_train\u001b[0m\u001b[0;34m,\u001b[0m \u001b[0mY_train\u001b[0m\u001b[0;34m,\u001b[0m \u001b[0mprediction_tf\u001b[0m\u001b[0;34m,\u001b[0m \u001b[0mprediction_np\u001b[0m\u001b[0;34m)\u001b[0m\u001b[0;34m\u001b[0m\u001b[0;34m\u001b[0m\u001b[0m\n\u001b[0m",
            "\u001b[0;31mNameError\u001b[0m: name 'plt_linear' is not defined"
          ]
        }
      ],
      "source": [
        "plt_linear(X_train, Y_train, prediction_tf, prediction_np)"
      ]
    },
    {
      "cell_type": "markdown",
      "metadata": {
        "id": "xM6XlH6aYwtG"
      },
      "source": [
        "## Neuron with Sigmoid activation\n",
        "The function implemented by a neuron/unit with a sigmoid activation is the same as in Course 1, logistic  regression:\n",
        "$$ f_{\\mathbf{w},b}(x^{(i)}) = g(\\mathbf{w}x^{(i)} + b) \\tag{2}$$\n",
        "where $$g(x) = sigmoid(x)$$ \n",
        "\n",
        "Let's set $w$ and $b$ to some known values and check the model.\n"
      ]
    },
    {
      "cell_type": "markdown",
      "metadata": {
        "tags": [],
        "id": "R_0DEY3GYwtG"
      },
      "source": [
        "### DataSet\n",
        "We'll use an example from Course 1, logistic regression."
      ]
    },
    {
      "cell_type": "code",
      "execution_count": null,
      "metadata": {
        "id": "mukUPtobYwtG"
      },
      "outputs": [],
      "source": [
        "X_train = np.array([0., 1, 2, 3, 4, 5], dtype=np.float32).reshape(-1,1)  # 2-D Matrix\n",
        "Y_train = np.array([0,  0, 0, 1, 1, 1], dtype=np.float32).reshape(-1,1)  # 2-D Matrix"
      ]
    },
    {
      "cell_type": "code",
      "execution_count": null,
      "metadata": {
        "id": "J_C7pFjlYwtG",
        "outputId": "3b1f52cf-437a-4153-de61-a4226e5ae4ae"
      },
      "outputs": [
        {
          "data": {
            "text/plain": [
              "array([3., 4., 5.], dtype=float32)"
            ]
          },
          "execution_count": 12,
          "metadata": {},
          "output_type": "execute_result"
        }
      ],
      "source": [
        "pos = Y_train == 1\n",
        "neg = Y_train == 0\n",
        "X_train[pos]"
      ]
    },
    {
      "cell_type": "code",
      "execution_count": null,
      "metadata": {
        "id": "rOUZ0NbLYwtG",
        "outputId": "642d4d61-0968-48e9-9d82-63f3f80320b0"
      },
      "outputs": [
        {
          "data": {
            "image/png": "[encoded data removed]",
            "text/plain": [
              "<Figure size 288x216 with 1 Axes>"
            ]
          },
          "metadata": {},
          "output_type": "display_data"
        }
      ],
      "source": [
        "pos = Y_train == 1\n",
        "neg = Y_train == 0\n",
        "\n",
        "fig,ax = plt.subplots(1,1,figsize=(4,3))\n",
        "ax.scatter(X_train[pos], Y_train[pos], marker='x', s=80, c = 'red', label=\"y=1\")\n",
        "ax.scatter(X_train[neg], Y_train[neg], marker='o', s=100, label=\"y=0\", facecolors='none', \n",
        "              edgecolors=dlc[\"dlblue\"],lw=3)\n",
        "\n",
        "ax.set_ylim(-0.08,1.1)\n",
        "ax.set_ylabel('y', fontsize=12)\n",
        "ax.set_xlabel('x', fontsize=12)\n",
        "ax.set_title('one variable plot')\n",
        "ax.legend(fontsize=12)\n",
        "plt.show()"
      ]
    },
    {
      "cell_type": "markdown",
      "metadata": {
        "id": "3Sl99HidYwtH"
      },
      "source": [
        "### Logistic Neuron\n",
        "We can implement a 'logistic neuron' by adding a sigmoid activation. The function of the neuron is then described by (2) above.   \n",
        "This section will create a Tensorflow Model that contains our logistic layer to demonstrate an alternate method of creating models. Tensorflow is most often used to create multi-layer models. The [Sequential](https://keras.io/guides/sequential_model/) model is a convenient means of constructing these models."
      ]
    },
    {
      "cell_type": "code",
      "execution_count": null,
      "metadata": {
        "tags": [],
        "id": "7y7pYCb_YwtH"
      },
      "outputs": [],
      "source": [
        "model = Sequential(\n",
        "    [\n",
        "        tf.keras.layers.Dense(1, input_dim=1,  activation = 'sigmoid', name='L1')\n",
        "    ]\n",
        ")"
      ]
    },
    {
      "cell_type": "markdown",
      "metadata": {
        "id": "0rNUT0tzYwtH"
      },
      "source": [
        "`model.summary()` shows the layers and number of parameters in the model. There is only one layer in this model and that layer has only one unit. The unit has two parameters, $w$ and $b$."
      ]
    },
    {
      "cell_type": "code",
      "execution_count": null,
      "metadata": {
        "id": "P1w4fFMjYwtH",
        "outputId": "fa62c337-7c61-42f3-a155-ef47aa7bb8da"
      },
      "outputs": [
        {
          "name": "stdout",
          "output_type": "stream",
          "text": [
            "Model: \"sequential\"\n",
            "_________________________________________________________________\n",
            " Layer (type)                Output Shape              Param #   \n",
            "=================================================================\n",
            " L1 (Dense)                  (None, 1)                 2         \n",
            "                                                                 \n",
            "=================================================================\n",
            "Total params: 2\n",
            "Trainable params: 2\n",
            "Non-trainable params: 0\n",
            "_________________________________________________________________\n"
          ]
        }
      ],
      "source": [
        "model.summary()"
      ]
    },
    {
      "cell_type": "code",
      "execution_count": null,
      "metadata": {
        "id": "VFXUyVKMYwtH",
        "outputId": "be8ac6f4-4bcb-4353-a79a-c65caf85adac"
      },
      "outputs": [
        {
          "name": "stdout",
          "output_type": "stream",
          "text": [
            "[[-0.13]] [0.]\n",
            "(1, 1) (1,)\n"
          ]
        }
      ],
      "source": [
        "logistic_layer = model.get_layer('L1')\n",
        "w,b = logistic_layer.get_weights()\n",
        "print(w,b)\n",
        "print(w.shape,b.shape)"
      ]
    },
    {
      "cell_type": "markdown",
      "metadata": {
        "id": "sPo6hNFuYwtH"
      },
      "source": [
        "Let's set the weight and bias to some known values."
      ]
    },
    {
      "cell_type": "code",
      "execution_count": null,
      "metadata": {
        "id": "_Gu5sHcaYwtI",
        "outputId": "03171bb7-cd41-4a39-e0c6-350aed760803"
      },
      "outputs": [
        {
          "name": "stdout",
          "output_type": "stream",
          "text": [
            "[array([[2.]], dtype=float32), array([-4.5], dtype=float32)]\n"
          ]
        }
      ],
      "source": [
        "set_w = np.array([[2]])\n",
        "set_b = np.array([-4.5])\n",
        "# set_weights takes a list of numpy arrays\n",
        "logistic_layer.set_weights([set_w, set_b])\n",
        "print(logistic_layer.get_weights())"
      ]
    },
    {
      "cell_type": "markdown",
      "metadata": {
        "id": "09M5GR0sYwtI"
      },
      "source": [
        "Let's compare equation (2) to the layer output."
      ]
    },
    {
      "cell_type": "code",
      "execution_count": null,
      "metadata": {
        "id": "twpGuzcxYwtI",
        "outputId": "7684104e-75e7-4400-8f45-c168f1115c51"
      },
      "outputs": [
        {
          "name": "stdout",
          "output_type": "stream",
          "text": [
            "[[0.01]]\n",
            "[[0.01]]\n"
          ]
        }
      ],
      "source": [
        "a1 = model.predict(X_train[0].reshape(1,1))\n",
        "print(a1)\n",
        "alog = sigmoidnp(np.dot(set_w,X_train[0].reshape(1,1)) + set_b)\n",
        "print(alog)"
      ]
    },
    {
      "cell_type": "markdown",
      "metadata": {
        "id": "y7DLJ5wCYwtI"
      },
      "source": [
        "They produce the same values!\n",
        "Now, we can use our logistic layer and NumPy model to make predictions on our training data."
      ]
    },
    {
      "cell_type": "code",
      "execution_count": null,
      "metadata": {
        "id": "Ta8sMVKaYwtI",
        "outputId": "0d61bcea-93b9-467c-e0d7-dda2bd49feb1"
      },
      "outputs": [
        {
          "data": {
            "image/png": "[encoded data removed]",
            "text/plain": [
              "<Figure size 1152x288 with 4 Axes>"
            ]
          },
          "metadata": {},
          "output_type": "display_data"
        }
      ],
      "source": [
        "plt_logistic(X_train, Y_train, model, set_w, set_b, pos, neg)"
      ]
    },
    {
      "cell_type": "markdown",
      "metadata": {
        "id": "Pgosj9c-YwtI"
      },
      "source": [
        "The shading above reflects the output of the sigmoid which varies from 0 to 1."
      ]
    },
    {
      "cell_type": "markdown",
      "metadata": {
        "id": "VMwiEcs4YwtJ"
      },
      "source": [
        "# Congratulations!\n",
        "You built a very simple neural network and have explored the similarities of a neuron to the linear and logistic regression from Course 1."
      ]
    },
    {
      "cell_type": "code",
      "execution_count": null,
      "metadata": {
        "id": "4eZCLMl1YwtJ"
      },
      "outputs": [],
      "source": []
    },
    {
      "cell_type": "code",
      "execution_count": null,
      "metadata": {
        "id": "K7ciAGhaYwtJ"
      },
      "outputs": [],
      "source": []
    }
  ],
  "metadata": {
    "kernelspec": {
      "display_name": "Python 3",
      "language": "python",
      "name": "python3"
    },
    "language_info": {
      "codemirror_mode": {
        "name": "ipython",
        "version": 3
      },
      "file_extension": ".py",
      "mimetype": "text/x-python",
      "name": "python",
      "nbconvert_exporter": "python",
      "pygments_lexer": "ipython3",
      "version": "3.7.6"
    },
    "colab": {
      "provenance": []
    }
  },
  "nbformat": 4,
  "nbformat_minor": 0
}